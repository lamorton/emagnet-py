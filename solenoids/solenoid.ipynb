{
 "cells": [
  {
   "cell_type": "markdown",
   "metadata": {},
   "source": [
    "# On-Axis Field of a Finite Solenoid"
   ]
  },
  {
   "cell_type": "markdown",
   "metadata": {},
   "source": [
    "*This formula uses the formula for the field due to a  [thin shell solenoid](../solenoids/thin_solenoid.ipynb), integrated over a range of radii to obtain the magnetic field at any point on the axis of a finite.*"
   ]
  },
  {
   "cell_type": "markdown",
   "metadata": {},
   "source": [
    "![Infinite straight wire](solenoid.png)"
   ]
  },
  {
   "cell_type": "markdown",
   "metadata": {},
   "source": [
    "## General Case"
   ]
  },
  {
   "cell_type": "markdown",
   "metadata": {},
   "source": [
    "$B = \\frac {\\mu_o i n}{2 (r_2 - r_1)} \\left [  x_2 \\ln \\left ( \\frac {\\sqrt{r_2^2 + x_2^2} + r_2}{\\sqrt{r_1^2 + x_2^2} + r_1} \\right ) - x_1 \\ln \\left ( \\frac {\\sqrt{r_2^2 + x_1^2} + r_2}{\\sqrt{r_1^2 + x_1^2} + r_1} \\right ) \\right ]$\n",
    "\n",
    "**B** is the magnetic field, in teslas, at any point on the axis of the solenoid. The direction of the field is parallel to the solenoid axis.\n",
    "\n",
    "$\\mathbf \\mu_o$ is the permeability constant (1.26x10<sup>-6</sup> Hm<sup>-1</sup>)\n",
    "\n",
    "**i** is the current in the wire, in amperes.\n",
    "\n",
    "**n** is the number of turns of wire *per unit length* in the solenoid.\n",
    "\n",
    "**r<sub>1</sub>** is the inner radius of the solenoid, in meters.\n",
    "\n",
    "**r<sub>1</sub>** is the inner radius of the solenoid, in meters.\n",
    "\n",
    "**r<sub>2</sub>** is the outer radius of the solenoid, in meters.\n",
    "\n",
    "**x<sub>1</sub>** and **x<sub>2</sub>** are the distances, on axis, from the ends of the solenoid to the magnetic field measurement point, in meters."
   ]
  },
  {
   "cell_type": "markdown",
   "metadata": {},
   "source": [
    "## The \"G Factor\""
   ]
  },
  {
   "cell_type": "markdown",
   "metadata": {},
   "source": [
    "The field can be expressed in a form that separates the unit system, power and winding configuration from the unitless geometry of the coil. This introduces the \"G Factor\":\n",
    "\n",
    "$B = \\mu_o G \\sqrt \\frac {P \\lambda} {r_1 \\rho}$\n",
    "\n",
    "where **G** is the unitless geometry factor defined as:\n",
    "\n",
    "$G = \\sqrt{\\frac {1}{8 \\pi \\beta (\\alpha^2 - 1)}} \\left [ (\\gamma + \\beta) \\ln \\left ( \\frac {\\alpha + \\sqrt{\\alpha^2 + (\\gamma + \\beta)^2}}{1 + \\sqrt{1 + (\\gamma + \\beta)^2}} \\right ) - (\\gamma - \\beta) \\ln \\left ( \\frac {\\alpha + \\sqrt{\\alpha^2 + (\\gamma - \\beta)^2}}{1 + \\sqrt{1 + (\\gamma - \\beta)^2}} \\right ) \\right ]$\n",
    "\n",
    "where,\n",
    "\n",
    "$\\alpha = \\frac {r_2}{r_1}$, $\\beta = \\frac l {2 r_1}$ and $\\gamma = \\frac {x_1 + x_2}{2 r_1}$\n",
    "\n",
    "**P** is the total power consumed by the coil, in watts.\n",
    "\n",
    "**$\\lambda$** is equal to the total conductor cross section area divided by the total coil cross section area, which ranges from 0.6 to 0.8 in typical coils.\n",
    "\n",
    "**$\\rho$** is the conductor resistivity, in units of ohms-length. The length units must match those of **r<sub>1</sub>**."
   ]
  },
  {
   "cell_type": "markdown",
   "metadata": {},
   "source": [
    "## Special Case: *x<sub>1</sub>* = -*x<sub>2</sub>*"
   ]
  },
  {
   "cell_type": "markdown",
   "metadata": {},
   "source": [
    "When the magnetic field measurement point is at the center of the solenoid:\n",
    "\n",
    "$B = \\frac {\\mu_o i N}{2(r_2 - r_1)} \\ln \\left ( \\frac {\\sqrt{r_2^2 + (\\frac l 2)^2} + r_2}{\\sqrt{r_1^2 + (\\frac l 2)^2} + r_1} \\right )$\n",
    "\n",
    "or...\n",
    "\n",
    "$B = \\frac {\\mu_o j l}{2} \\ln \\left ( \\frac {\\sqrt{r_2^2 + (\\frac l 2)^2} + r_2}{\\sqrt{r_1^2 + (\\frac l 2)^2} + r_1} \\right )$\n",
    "\n",
    "**j** is the bulk current density in the coil cross section, in amperes per square meter.\n",
    "\n",
    "**l** is the length of the solenoid, in meters.\n",
    "\n",
    "**N** is the total number of turns of wire in the coil.\n",
    "\n",
    "The unitless geometry factor G is simply:\n",
    "\n",
    "$G = \\sqrt \\frac {\\beta} {2 \\pi (\\alpha^2 - 1)} \\ln \\left ( \\frac {\\alpha + \\sqrt{\\alpha^2 + \\beta^2}} {1 + \\sqrt{1 + \\beta^2}} \\right )$\n",
    "\n",
    "Note that **G** is maximum when $\\alpha=3$ and $\\beta=2$. A coil built with a given inner diameter and input power will deliver the highest central field strength when these conditions are met."
   ]
  },
  {
   "cell_type": "markdown",
   "metadata": {},
   "source": [
    "---\n",
    "[Magnet Formulas](../index.ipynb), © 2015 by Eric Dennison. Source code and License on [Github](https://github.com/tiggerntatie/emagnet.py)"
   ]
  }
 ],
 "metadata": {
  "kernelspec": {
   "display_name": "Python 3",
   "language": "python",
   "name": "python3"
  },
  "language_info": {
   "codemirror_mode": {
    "name": "ipython",
    "version": 3
   },
   "file_extension": ".py",
   "mimetype": "text/x-python",
   "name": "python",
   "nbconvert_exporter": "python",
   "pygments_lexer": "ipython3",
   "version": "3.4.0"
  }
 },
 "nbformat": 4,
 "nbformat_minor": 0
}
