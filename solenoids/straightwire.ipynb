{
 "metadata": {
  "kernelspec": {
   "codemirror_mode": {
    "name": "ipython",
    "version": 3
   },
   "display_name": "IPython (Python 3)",
   "language": "python",
   "name": "python3"
  },
  "name": "",
  "signature": "sha256:bf6398b7224f17a09b6e68dcf740db717b9395d4639a9969372aac83374402ce"
 },
 "nbformat": 3,
 "nbformat_minor": 0,
 "worksheets": [
  {
   "cells": [
    {
     "cell_type": "heading",
     "level": 1,
     "metadata": {},
     "source": [
      "Field Due to an Infinite Straight Current Filament"
     ]
    },
    {
     "cell_type": "markdown",
     "metadata": {},
     "source": [
      "*This simple formula can be derived directly from [Maxwell's fourth equation](http://nbviewer.ipython.org/github/tiggerntatie/emagnet.py/blob/master/basics/maxwell.ipynb), or Ampere's Law.*"
     ]
    },
    {
     "cell_type": "markdown",
     "metadata": {},
     "source": [
      "![Infinite straight wire](straightwire.png)"
     ]
    },
    {
     "cell_type": "markdown",
     "metadata": {},
     "source": [
      "$B = \\frac {\\mu_o i}{2\\pi r}$\n",
      "\n",
      "**B** is the magnetic field, in teslas. The direction of the field is tangent to a circle on a radius **r** (in meters) from the wire.\n",
      "\n",
      "$\\mathbf \\mu_o$ is the permeability constant ($1.26 \\cdot 10^{-6} \\mathrm{Hm^{-1}}$)\n",
      "\n",
      "**i** is the current in the wire, in amperes."
     ]
    },
    {
     "cell_type": "markdown",
     "metadata": {},
     "source": [
      "---\n",
      "[Magnet Formulas](http://nbviewer.ipython.org/github/tiggerntatie/emagnet.py/blob/master/magnet_formulas.ipynb), \u00a9 2015 by Eric Dennison. Source code and License on [Github](https://github.com/tiggerntatie/emagnet.py)"
     ]
    }
   ],
   "metadata": {}
  }
 ]
}