{
 "metadata": {
  "kernelspec": {
   "codemirror_mode": {
    "name": "ipython",
    "version": 3
   },
   "display_name": "IPython (Python 3)",
   "language": "python",
   "name": "python3"
  },
  "name": "",
  "signature": "sha256:7560fcb7ef49ab34b1b7e32f26b68a1ef04b3c081c9e3177bbbfb55c2812366d"
 },
 "nbformat": 3,
 "nbformat_minor": 0,
 "worksheets": [
  {
   "cells": [
    {
     "cell_type": "heading",
     "level": 1,
     "metadata": {},
     "source": [
      "Field Inside an Air-Core Toroid Coil"
     ]
    },
    {
     "cell_type": "markdown",
     "metadata": {},
     "source": [
      "*This simple formula can be derived directly from [Maxwell's fourth equation](http://nbviewer.ipython.org/github/tiggerntatie/emagnet.py/blob/master/basics/maxwell.ipynb), or Ampere's Law.*"
     ]
    },
    {
     "cell_type": "markdown",
     "metadata": {},
     "source": [
      "![Infinite straight wire](toroid.png)"
     ]
    },
    {
     "cell_type": "markdown",
     "metadata": {},
     "source": [
      "$B = \\frac {\\mu_o i N}{2\\pi r}$\n",
      "\n",
      "**B** is the magnetic field, in teslas. The direction of the field is tangent to a circle on a radius **r** (in meters) from the center of the toroid.\n",
      "\n",
      "$\\mathbf \\mu_o$ is the permeability constant (1.26x10<sup>-6</sup> Hm<sup>-1</sup>)\n",
      "\n",
      "**i** is the current in the wire, in amperes.\n",
      "\n",
      "**N** is the total number of turns of wire in the toroid."
     ]
    },
    {
     "cell_type": "markdown",
     "metadata": {},
     "source": [
      "---\n",
      "[Magnet Formulas](http://nbviewer.ipython.org/github/tiggerntatie/emagnet.py/blob/master/magnet_formulas.ipynb), \u00a9 2015 by Eric Dennison. Source code and License on [Github](https://github.com/tiggerntatie/emagnet.py)"
     ]
    }
   ],
   "metadata": {}
  }
 ]
}