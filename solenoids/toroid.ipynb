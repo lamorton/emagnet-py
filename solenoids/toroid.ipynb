{
 "cells": [
  {
   "cell_type": "markdown",
   "metadata": {},
   "source": [
    "# Field Inside an Air-Core Toroid Coil"
   ]
  },
  {
   "cell_type": "markdown",
   "metadata": {},
   "source": [
    "*This simple formula can be derived directly from [Maxwell's fourth equation](../basics/maxwell.ipynb), or Ampere's Law.*"
   ]
  },
  {
   "cell_type": "markdown",
   "metadata": {},
   "source": [
    "![Infinite straight wire](toroid.png)"
   ]
  },
  {
   "cell_type": "markdown",
   "metadata": {},
   "source": [
    "$B = \\frac {\\mu_o i N}{2\\pi r}$\n",
    "\n",
    "**B** is the magnetic field, in teslas. The direction of the field is tangent to a circle on a radius **r** (in meters) from the center of the toroid.\n",
    "\n",
    "$\\mathbf \\mu_o$ is the permeability constant (1.26x10<sup>-6</sup> Hm<sup>-1</sup>)\n",
    "\n",
    "**i** is the current in the wire, in amperes.\n",
    "\n",
    "**N** is the total number of turns of wire in the toroid."
   ]
  },
  {
   "cell_type": "markdown",
   "metadata": {},
   "source": [
    "---\n",
    "\n",
    "[Magnet Formulas](../index.ipynb), © 2015 by Eric Dennison. Source code and License on [Github](https://github.com/tiggerntatie/emagnet-py)"
   ]
  }
 ],
 "metadata": {
  "kernelspec": {
   "display_name": "Python 3",
   "language": "python",
   "name": "python3"
  },
  "language_info": {
   "codemirror_mode": {
    "name": "ipython",
    "version": 3
   },
   "file_extension": ".py",
   "mimetype": "text/x-python",
   "name": "python",
   "nbconvert_exporter": "python",
   "pygments_lexer": "ipython3",
   "version": "3.4.0"
  }
 },
 "nbformat": 4,
 "nbformat_minor": 0
}
