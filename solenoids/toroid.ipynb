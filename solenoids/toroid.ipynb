{
 "metadata": {
  "kernelspec": {
   "codemirror_mode": {
    "name": "ipython",
    "version": 3
   },
   "display_name": "IPython (Python 3)",
   "language": "python",
   "name": "python3"
  },
  "name": "",
  "signature": "sha256:4062d7928aeed26c98bbda13fc7b47fe5ab6bd513588661b1e2821919bd8fca3"
 },
 "nbformat": 3,
 "nbformat_minor": 0,
 "worksheets": [
  {
   "cells": [
    {
     "cell_type": "heading",
     "level": 1,
     "metadata": {},
     "source": [
      "Field Inside an Air-Core Toroid Coil"
     ]
    },
    {
     "cell_type": "markdown",
     "metadata": {},
     "source": [
      "*This simple formula can be derived directly from [Maxwell's fourth equation](http://nbviewer.ipython.org/github/tiggerntatie/emagnet.py/blob/master/basics/maxwell.ipynb), or Ampere's Law.*"
     ]
    },
    {
     "cell_type": "markdown",
     "metadata": {},
     "source": [
      "![Infinite straight wire](toroid.png)"
     ]
    },
    {
     "cell_type": "markdown",
     "metadata": {},
     "source": [
      "$B = \\frac {\\mu_o i N}{2\\pi r}$\n",
      "\n",
      "**B** is the magnetic field, in teslas. The direction of the field is tangent to a circle on a radius **r** (in meters) from the center of the toroid.\n",
      "\n",
      "$\\mathbf \\mu_o$ is the permeability constant ($1.26 \\cdot 10^{-6} \\mathrm{Hm^{-1}}$)\n",
      "\n",
      "**i** is the current in the wire, in amperes.\n",
      "\n",
      "**N** is the total number of turns of wire in the toroid."
     ]
    },
    {
     "cell_type": "markdown",
     "metadata": {},
     "source": [
      "---\n",
      "[Magnet Formulas](http://nbviewer.ipython.org/github/tiggerntatie/emagnet.py/blob/master/magnet_formulas.ipynb), \u00a9 2015 by Eric Dennison. Source code and License on [Github](https://github.com/tiggerntatie/emagnet.py)"
     ]
    }
   ],
   "metadata": {}
  }
 ]
}