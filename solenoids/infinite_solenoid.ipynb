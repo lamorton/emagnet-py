{
 "metadata": {
  "kernelspec": {
   "codemirror_mode": {
    "name": "ipython",
    "version": 3
   },
   "display_name": "IPython (Python 3)",
   "language": "python",
   "name": "python3"
  },
  "name": "",
  "signature": "sha256:408eac6473fc8940e38323f594fc8fef772f01a779a99a9fe1f6d60634eeeeaa"
 },
 "nbformat": 3,
 "nbformat_minor": 0,
 "worksheets": [
  {
   "cells": [
    {
     "cell_type": "heading",
     "level": 1,
     "metadata": {},
     "source": [
      "Field Inside a Straight, Infinite, Air-Core Solenoid"
     ]
    },
    {
     "cell_type": "markdown",
     "metadata": {},
     "source": [
      "*This simple formula can be derived directly from [Maxwell's fourth equation](http://nbviewer.ipython.org/github/tiggerntatie/emagnet.py/blob/master/basics/maxwell.ipynb), or Ampere's Law.*"
     ]
    },
    {
     "cell_type": "markdown",
     "metadata": {},
     "source": [
      "![Infinite straight wire](infsolenoid.png)"
     ]
    },
    {
     "cell_type": "markdown",
     "metadata": {},
     "source": [
      "$B = \\mu_o i n$\n",
      "\n",
      "**B** is the magnetic field inside the solenoid, in teslas. The direction of the field is parallel to the axis of the solenoid. There is no field outside the solenoid.\n",
      "\n",
      "$\\mathbf \\mu_o$ is the permeability constant (1.26x10<sup>-6</sup> Hm<sup>-1</sup>)\n",
      "\n",
      "**i** is the current in the wire, in amperes.\n",
      "\n",
      "**n** is the number of turns of wire per unit length of the solenoid, in units of $\\mathrm{m^{-1}}$."
     ]
    },
    {
     "cell_type": "markdown",
     "metadata": {},
     "source": [
      "---\n",
      "[Magnet Formulas](http://nbviewer.ipython.org/github/tiggerntatie/emagnet.py/blob/master/magnet_formulas.ipynb), \u00a9 2015 by Eric Dennison. Source code and License on [Github](https://github.com/tiggerntatie/emagnet.py)"
     ]
    }
   ],
   "metadata": {}
  }
 ]
}