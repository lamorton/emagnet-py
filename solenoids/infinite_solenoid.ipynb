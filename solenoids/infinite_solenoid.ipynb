{
 "cells": [
  {
   "cell_type": "markdown",
   "metadata": {},
   "source": [
    "# Field Inside a Straight, Infinite, Air-Core Solenoid"
   ]
  },
  {
   "cell_type": "markdown",
   "metadata": {},
   "source": [
    "*This simple formula can be derived directly from [Maxwell's fourth equation](../basics/maxwell.html), or Ampere's Law.*"
   ]
  },
  {
   "cell_type": "markdown",
   "metadata": {},
   "source": [
    "![Infinite straight wire](infsolenoid.png)"
   ]
  },
  {
   "cell_type": "markdown",
   "metadata": {},
   "source": [
    "$B = \\mu_o i n$\n",
    "\n",
    "**B** is the magnetic field inside the solenoid, in teslas. The direction of the field is parallel to the axis of the solenoid. There is no field outside the solenoid.\n",
    "\n",
    "$\\mathbf \\mu_o$ is the permeability constant (1.26x10<sup>-6</sup> Hm<sup>-1</sup>)\n",
    "\n",
    "**i** is the current in the wire, in amperes.\n",
    "\n",
    "**n** is the number of turns of wire per unit length of the solenoid, in units of $\\mathrm{m^{-1}}$."
   ]
  },
  {
   "cell_type": "markdown",
   "metadata": {},
   "source": [
    "---\n",
    "\n",
    "[Magnet Formulas](../index.html), © 2018 by Eric Dennison. Source code and License on [Github](https://github.com/tiggerntatie/emagnet-py)"
   ]
  }
 ],
 "metadata": {
  "kernelspec": {
   "display_name": "Python 3",
   "language": "python",
   "name": "python3"
  },
  "language_info": {
   "codemirror_mode": {
    "name": "ipython",
    "version": 3
   },
   "file_extension": ".py",
   "mimetype": "text/x-python",
   "name": "python",
   "nbconvert_exporter": "python",
   "pygments_lexer": "ipython3",
   "version": "3.5.2"
  }
 },
 "nbformat": 4,
 "nbformat_minor": 2
}
