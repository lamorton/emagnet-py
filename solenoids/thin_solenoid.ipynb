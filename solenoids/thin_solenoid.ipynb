{
 "cells": [
  {
   "cell_type": "markdown",
   "metadata": {},
   "source": [
    "# On-Axis Field of a Finite, Straight, Thin Shell Solenoid"
   ]
  },
  {
   "cell_type": "markdown",
   "metadata": {},
   "source": [
    "*This formula uses the formula for the field due to a  [current loop](../solenoids/current_loop.html), integrated over a range of axial displacements to obtain the magnetic field at any point on the axis of a finite, thin shell solenoid.*"
   ]
  },
  {
   "cell_type": "markdown",
   "metadata": {},
   "source": [
    "![Infinite straight wire](thin_solenoid.png)"
   ]
  },
  {
   "cell_type": "markdown",
   "metadata": {},
   "source": [
    "$B = \\frac {\\mu_o i N}{2 l} \\left [ \\frac {x_2} {\\sqrt{x_2^2 + r^2}} - \\frac {x_1} {\\sqrt{x_1^2 + r^2}}\\right ]$\n",
    "\n",
    "**B** is the magnetic field, in teslas, at any point on the axis of the solenoid. The direction of the field is parallel to the solenoid axis.\n",
    "\n",
    "$\\mathbf \\mu_o$ is the permeability constant (1.26x10<sup>-6</sup> Hm<sup>-1</sup>)\n",
    "\n",
    "**i** is the current in the wire, in amperes.\n",
    "\n",
    "**N** is the total number of turns of wire in the solenoid.\n",
    "\n",
    "**l** is the length of the solenoid, in meters.\n",
    "\n",
    "**r** is the radius of the solenoid, in meters.\n",
    "\n",
    "**x<sub>1</sub>** and **x<sub>2</sub>** are the distances, on axis, from the ends of the solenoid to the magnetic field measurement point, in meters."
   ]
  },
  {
   "cell_type": "markdown",
   "metadata": {},
   "source": [
    "## Special Case: *x<sub>1</sub>* = -*x<sub>2</sub>*"
   ]
  },
  {
   "cell_type": "markdown",
   "metadata": {},
   "source": [
    "$B = \\frac {\\mu_o i N}{\\sqrt{l^2 + 4 r^2}}$\n",
    "\n",
    "The magnetic field measurement point is at the center of the solenoid."
   ]
  },
  {
   "cell_type": "markdown",
   "metadata": {},
   "source": [
    "---\n",
    "[Magnet Formulas](../index.html), © 2018 by Eric Dennison. Source code and License on [Github](https://github.com/tiggerntatie/emagnet.py)"
   ]
  }
 ],
 "metadata": {
  "kernelspec": {
   "display_name": "Python 3",
   "language": "python",
   "name": "python3"
  },
  "language_info": {
   "codemirror_mode": {
    "name": "ipython",
    "version": 3
   },
   "file_extension": ".py",
   "mimetype": "text/x-python",
   "name": "python",
   "nbconvert_exporter": "python",
   "pygments_lexer": "ipython3",
   "version": "3.5.2"
  }
 },
 "nbformat": 4,
 "nbformat_minor": 2
}
