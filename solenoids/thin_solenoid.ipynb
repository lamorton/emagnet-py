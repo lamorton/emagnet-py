{
 "metadata": {
  "kernelspec": {
   "codemirror_mode": {
    "name": "ipython",
    "version": 3
   },
   "display_name": "IPython (Python 3)",
   "language": "python",
   "name": "python3"
  },
  "name": "",
  "signature": "sha256:37c46bf286510e5c493207fe7e006cca2180a4eb7b327bfe11b0deb0b717449f"
 },
 "nbformat": 3,
 "nbformat_minor": 0,
 "worksheets": [
  {
   "cells": [
    {
     "cell_type": "heading",
     "level": 1,
     "metadata": {},
     "source": [
      "On-Axis Field of a Finite, Straight, Thin Shell Solenoid"
     ]
    },
    {
     "cell_type": "markdown",
     "metadata": {},
     "source": [
      "*This formula uses the formula for the field due to a  [current loop](http://nbviewer.ipython.org/github/tiggerntatie/emagnet.py/blob/master/solenoids/current_loop.ipynb), integrated over a range of axial displacements to obtain the magnetic field at any point on the axis of a finite, thin shell solenoid.*"
     ]
    },
    {
     "cell_type": "markdown",
     "metadata": {},
     "source": [
      "![Infinite straight wire](thin_solenoid.png)"
     ]
    },
    {
     "cell_type": "markdown",
     "metadata": {},
     "source": [
      "$B = \\frac {\\mu_o i N}{2 l} \\left [ \\frac {x_2} {\\sqrt{x_2^2 + r^2}} - \\frac {x_1} {\\sqrt{x_1^2 + r^2}}\\right ]$\n",
      "\n",
      "**B** is the magnetic field, in teslas, at any point on the axis of the solenoid. The direction of the field is parallel to the solenoid axis.\n",
      "\n",
      "$\\mathbf \\mu_o$ is the permeability constant (1.26x10<sup>-6</sup> Hm<sup>-1</sup>)\n",
      "\n",
      "**i** is the current in the wire, in amperes.\n",
      "\n",
      "**N** is the total number of turns of wire in the solenoid.\n",
      "\n",
      "**l** is the length of the solenoid, in meters.\n",
      "\n",
      "**r** is the radius of the solenoid, in meters.\n",
      "\n",
      "**x<sub>1</sub>** and **x<sub>2</sub>** are the distances, on axis, from the ends of the solenoid to the magnetic field measurement point, in meters."
     ]
    },
    {
     "cell_type": "heading",
     "level": 2,
     "metadata": {},
     "source": [
      "Special Case: *x<sub>1</sub>* = -*x<sub>2</sub>*"
     ]
    },
    {
     "cell_type": "markdown",
     "metadata": {},
     "source": [
      "$B = \\frac {\\mu_o i N}{\\sqrt{l^2 + 4 r^2}}$\n",
      "\n",
      "The magnetic field measurement point is at the center of the solenoid."
     ]
    },
    {
     "cell_type": "markdown",
     "metadata": {},
     "source": [
      "---\n",
      "[Magnet Formulas](http://nbviewer.ipython.org/github/tiggerntatie/emagnet.py/blob/master/magnet_formulas.ipynb), \u00a9 2015 by Eric Dennison. Source code and License on [Github](https://github.com/tiggerntatie/emagnet.py)"
     ]
    }
   ],
   "metadata": {}
  }
 ]
}