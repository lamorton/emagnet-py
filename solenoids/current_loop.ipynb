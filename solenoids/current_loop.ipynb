{
 "cells": [
  {
   "cell_type": "markdown",
   "metadata": {},
   "source": [
    "# On-Axis Field Due to a Current Loop"
   ]
  },
  {
   "cell_type": "markdown",
   "metadata": {},
   "source": [
    "*This simple formula uses the [Law of Biot Savart](../basics/biotsavart.ipynb), integrated over a circular current loop to obtain the magnetic field at any point along the axis of the loop.*"
   ]
  },
  {
   "cell_type": "markdown",
   "metadata": {},
   "source": [
    "![Infinite straight wire](current_loop.png)"
   ]
  },
  {
   "cell_type": "markdown",
   "metadata": {},
   "source": [
    "$B = \\frac {\\mu_o i r^2}{2(r^2 + x^2)^{\\frac 3 2}}$\n",
    "\n",
    "**B** is the magnetic field, in teslas, at any point on the axis of the current loop. The direction of the field is perpendicular to the plane of the loop.\n",
    "\n",
    "$\\mathbf \\mu_o$ is the permeability constant (1.26x10<sup>-6</sup> Hm<sup>-1</sup>)\n",
    "\n",
    "**i** is the current in the wire, in amperes.\n",
    "\n",
    "**r** is the radius of the current loop, in meters.\n",
    "\n",
    "**x** is the distance, on axis, from the center of the current loop to the location where the magnetic field is calculated, in meters."
   ]
  },
  {
   "cell_type": "markdown",
   "metadata": {},
   "source": [
    "## Special Case: *x* = 0"
   ]
  },
  {
   "cell_type": "markdown",
   "metadata": {},
   "source": [
    "$B = \\frac {\\mu_o i}{2 r}$"
   ]
  },
  {
   "cell_type": "markdown",
   "metadata": {},
   "source": [
    "## Special Case: *x* >> 0"
   ]
  },
  {
   "cell_type": "markdown",
   "metadata": {},
   "source": [
    "$B = \\frac {\\mu_o i r^2}{2 x^3}$\n",
    "\n",
    "Note that this is equivalent to the expression for on-axis magnetic field due to a magnetic dipole:\n",
    "\n",
    "$B = \\frac {\\mu_o i A}{2 \\pi x^3}$\n",
    "\n",
    "where **A** is the area of the current loop, or $\\pi r^2$."
   ]
  },
  {
   "cell_type": "markdown",
   "metadata": {},
   "source": [
    "---\n",
    "[Magnet Formulas](../index.ipynb), © 2015 by Eric Dennison. Source code and License on [Github](https://github.com/tiggerntatie/emagnet.py)"
   ]
  }
 ],
 "metadata": {
  "kernelspec": {
   "display_name": "Python 3",
   "language": "python",
   "name": "python3"
  },
  "language_info": {
   "codemirror_mode": {
    "name": "ipython",
    "version": 3
   },
   "file_extension": ".py",
   "mimetype": "text/x-python",
   "name": "python",
   "nbconvert_exporter": "python",
   "pygments_lexer": "ipython3",
   "version": "3.4.0"
  }
 },
 "nbformat": 4,
 "nbformat_minor": 0
}
