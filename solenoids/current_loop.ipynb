{
 "cells": [
  {
   "cell_type": "markdown",
   "metadata": {},
   "source": [
    "# On-Axis Field Due to a Current Loop"
   ]
  },
  {
   "cell_type": "markdown",
   "metadata": {},
   "source": [
    "*This simple formula uses the [Law of Biot Savart](../basics/biotsavart.html), integrated over a circular current loop to obtain the magnetic field at any point along the axis of the loop.*"
   ]
  },
  {
   "cell_type": "markdown",
   "metadata": {},
   "source": [
    "![Infinite straight wire](current_loop.png)"
   ]
  },
  {
   "cell_type": "markdown",
   "metadata": {},
   "source": [
    "$B = \\frac {\\mu_o i r^2}{2(r^2 + x^2)^{\\frac 3 2}}$\n",
    "\n",
    "**B** is the magnetic field, in teslas, at any point on the axis of the current loop. The direction of the field is perpendicular to the plane of the loop.\n",
    "\n",
    "$\\mathbf \\mu_o$ is the permeability constant (1.26x10<sup>-6</sup> Hm<sup>-1</sup>)\n",
    "\n",
    "**i** is the current in the wire, in amperes.\n",
    "\n",
    "**r** is the radius of the current loop, in meters.\n",
    "\n",
    "**x** is the distance, on axis, from the center of the current loop to the location where the magnetic field is calculated, in meters."
   ]
  },
  {
   "cell_type": "markdown",
   "metadata": {},
   "source": [
    "## Special Case: *x* = 0"
   ]
  },
  {
   "cell_type": "markdown",
   "metadata": {},
   "source": [
    "$B = \\frac {\\mu_o i}{2 r}$"
   ]
  },
  {
   "cell_type": "markdown",
   "metadata": {},
   "source": [
    "## Special Case: *x* >> 0"
   ]
  },
  {
   "cell_type": "markdown",
   "metadata": {},
   "source": [
    "$B = \\frac {\\mu_o i r^2}{2 x^3}$\n",
    "\n",
    "Note that this is equivalent to the expression for on-axis magnetic field due to a magnetic dipole:\n",
    "\n",
    "$B = \\frac {\\mu_o i A}{2 \\pi x^3}$\n",
    "\n",
    "where **A** is the area of the current loop, or $\\pi r^2$."
   ]
  },
  {
   "cell_type": "markdown",
   "metadata": {},
   "source": [
    "## Code Example\n",
    "\n",
    "The following IPython code illustrates how to compute the on-axis field due to a simple current loop."
   ]
  },
  {
   "cell_type": "code",
   "execution_count": 3,
   "metadata": {
    "collapsed": true
   },
   "outputs": [],
   "source": [
    "%matplotlib inline\n",
    "from scipy.special import ellipk, ellipe, ellipkm1\n",
    "from numpy import pi, sqrt, linspace\n",
    "from pylab import plot, xlabel, ylabel, suptitle, legend, show\n",
    "\n",
    "uo = 4E-7*pi     # Permeability constant - units of H/m\n",
    "\n",
    "# On-Axis field = f(current and radius of loop, x of measurement point)\n",
    "def Baxial(i, a, x, u=uo):\n",
    "    if a == 0:\n",
    "        if x == 0:\n",
    "            return NaN\n",
    "        else:\n",
    "            return 0.0\n",
    "    else:\n",
    "        return (u*i*a**2)/2.0/(a**2 + x**2)**(1.5)"
   ]
  },
  {
   "cell_type": "markdown",
   "metadata": {},
   "source": [
    "Use the `Baxial` function to compute the central field of a unit loop (1 meter radius, 1 ampere of current), in teslas:"
   ]
  },
  {
   "cell_type": "code",
   "execution_count": 19,
   "metadata": {
    "collapsed": false
   },
   "outputs": [
    {
     "name": "stdout",
     "output_type": "stream",
     "text": [
      "6.28e-07 T\n"
     ]
    }
   ],
   "source": [
    "print(\"{:.3} T\".format(Baxial(1, 1, 0)))"
   ]
  },
  {
   "cell_type": "markdown",
   "metadata": {},
   "source": [
    "You can try selecting your own current (a), radius (m) and axial position (m) combination to see what the resulting field is:"
   ]
  },
  {
   "cell_type": "code",
   "execution_count": 39,
   "metadata": {
    "collapsed": false
   },
   "outputs": [
    {
     "data": {
      "text/plain": [
       "'6.28e-07 T'"
      ]
     },
     "metadata": {},
     "output_type": "display_data"
    }
   ],
   "source": [
    "from ipywidgets import interactive\n",
    "from IPython.display import display\n",
    "\n",
    "def B(i, a, x):\n",
    "    return \"{:.3} T\".format(Baxial(i,a,x))\n",
    "\n",
    "v = interactive(B, i=(0.0, 20.0), a=(0.0, 10.0), x=(0.0, 10.0))\n",
    "display(v)"
   ]
  },
  {
   "cell_type": "markdown",
   "metadata": {},
   "source": [
    "Now plot the field intensity, as a fraction of the central field, at various positions along the axis (measured as multiples of the coil radius):"
   ]
  },
  {
   "cell_type": "code",
   "execution_count": 9,
   "metadata": {
    "collapsed": false
   },
   "outputs": [
    {
     "data": {
      "image/png": "[encoded data removed]",
      "text/plain": [
       "<matplotlib.figure.Figure at 0x7fcc5dc38710>"
      ]
     },
     "metadata": {},
     "output_type": "display_data"
    }
   ],
   "source": [
    "axiallimit = 5.0 # meters from center\n",
    "radius = 1.0 # loop radius in meters\n",
    "X = linspace(0,axiallimit)\n",
    "Bcenter = Baxial(1,1,0)\n",
    "plot(X, [Baxial(1,1,x)/Bcenter for x in X])\n",
    "xlabel(\"Axial Position (multiples of radius)\")\n",
    "ylabel(\"Axial B field / Bo (unitless)\")\n",
    "suptitle(\"Axial B field of simple loop\")\n",
    "show()"
   ]
  },
  {
   "cell_type": "markdown",
   "metadata": {},
   "source": [
    "---\n",
    "[Magnet Formulas](../index.html), © 2018 by Eric Dennison. Source code and License on [Github](https://github.com/tiggerntatie/emagnet.py)"
   ]
  }
 ],
 "metadata": {
  "kernelspec": {
   "display_name": "Python 3",
   "language": "python",
   "name": "python3"
  },
  "language_info": {
   "codemirror_mode": {
    "name": "ipython",
    "version": 3
   },
   "file_extension": ".py",
   "mimetype": "text/x-python",
   "name": "python",
   "nbconvert_exporter": "python",
   "pygments_lexer": "ipython3",
   "version": "3.5.2"
  }
 },
 "nbformat": 4,
 "nbformat_minor": 2
}
