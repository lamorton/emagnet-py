{
 "metadata": {
  "kernelspec": {
   "codemirror_mode": {
    "name": "ipython",
    "version": 3
   },
   "display_name": "IPython (Python 3)",
   "language": "python",
   "name": "python3"
  },
  "name": "",
  "signature": "sha256:b11928545f1867d59567e578b7e9f40f79675244d41007017101dffe308d3bb1"
 },
 "nbformat": 3,
 "nbformat_minor": 0,
 "worksheets": [
  {
   "cells": [
    {
     "cell_type": "heading",
     "level": 1,
     "metadata": {},
     "source": [
      "On-Axis Field Due to a Current Loop"
     ]
    },
    {
     "cell_type": "markdown",
     "metadata": {},
     "source": [
      "*This simple formula uses the [Law of Biot Savart](http://nbviewer.ipython.org/github/tiggerntatie/emagnet.py/blob/master/basics/biotsavart.ipynb), integrated over a circular current loop to obtain the magnetic field at any point along the axis of the loop.*"
     ]
    },
    {
     "cell_type": "markdown",
     "metadata": {},
     "source": [
      "![Infinite straight wire](current_loop.png)"
     ]
    },
    {
     "cell_type": "markdown",
     "metadata": {},
     "source": [
      "$B = \\frac {\\mu_o i r^2}{2(r^2 + x^2)^{\\frac 3 2}}$\n",
      "\n",
      "**B** is the magnetic field, in teslas, at any point on the axis of the current loop. The direction of the field is perpendicular to the plane of the loop.\n",
      "\n",
      "$\\mathbf \\mu_o$ is the permeability constant (1.26x10<sup>-6</sup> Hm<sup>-1</sup>)\n",
      "\n",
      "**i** is the current in the wire, in amperes.\n",
      "\n",
      "**r** is the radius of the current loop, in meters.\n",
      "\n",
      "**x** is the distance, on axis, from the center of the current loop to the location where the magnetic field is calculated, in meters."
     ]
    },
    {
     "cell_type": "heading",
     "level": 2,
     "metadata": {},
     "source": [
      "Special Case: *x* = 0"
     ]
    },
    {
     "cell_type": "markdown",
     "metadata": {},
     "source": [
      "$B = \\frac {\\mu_o i}{2 r}$"
     ]
    },
    {
     "cell_type": "heading",
     "level": 2,
     "metadata": {},
     "source": [
      "Special Case: *x* >> 0"
     ]
    },
    {
     "cell_type": "markdown",
     "metadata": {},
     "source": [
      "$B = \\frac {\\mu_o i r^2}{2 x^3}$\n",
      "\n",
      "Note that this is equivalent to the expression for on-axis magnetic field due to a magnetic dipole:\n",
      "\n",
      "$B = \\frac {\\mu_o i A}{2 \\pi x^3}$\n",
      "\n",
      "where **A** is the area of the current loop, or $\\pi r^2$."
     ]
    },
    {
     "cell_type": "markdown",
     "metadata": {},
     "source": [
      "---\n",
      "[Magnet Formulas](http://nbviewer.ipython.org/github/tiggerntatie/emagnet.py/blob/master/magnet_formulas.ipynb), \u00a9 2015 by Eric Dennison. Source code and License on [Github](https://github.com/tiggerntatie/emagnet.py)"
     ]
    }
   ],
   "metadata": {}
  }
 ]
}