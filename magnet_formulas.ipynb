{
 "metadata": {
  "kernelspec": {
   "codemirror_mode": {
    "name": "ipython",
    "version": 3
   },
   "display_name": "IPython (Python 3)",
   "language": "python",
   "name": "python3"
  },
  "name": "",
  "signature": "sha256:55a016e659b3071b54ddd156e8815b18c7f9c7c59a8465b8e5a27e6b6856c1f1"
 },
 "nbformat": 3,
 "nbformat_minor": 0,
 "worksheets": [
  {
   "cells": [
    {
     "cell_type": "heading",
     "level": 1,
     "metadata": {},
     "source": [
      "magnet formulas"
     ]
    },
    {
     "cell_type": "markdown",
     "metadata": {},
     "source": [
      "*A small web site devoted to the vanishing art of practical magnet design without FEA (Finite Element Analysis).*"
     ]
    },
    {
     "cell_type": "heading",
     "level": 2,
     "metadata": {},
     "source": [
      "The Basics"
     ]
    },
    {
     "cell_type": "markdown",
     "metadata": {},
     "source": [
      "* [Maxwell and His Equations](http://nbviewer.ipython.org/github/tiggerntatie/emagnet.py/blob/master/basics/maxwell.ipynb)\n",
      "* [The Law of Biot Savart](http://nbviewer.ipython.org/github/tiggerntatie/emagnet.py/blob/master/basics/biotsavart.ipynb)"
     ]
    },
    {
     "cell_type": "heading",
     "level": 2,
     "metadata": {},
     "source": [
      "Simple Magnetic Field Formulas"
     ]
    },
    {
     "cell_type": "markdown",
     "metadata": {},
     "source": [
      "* [Field due to electric current in an infinitely long, straight wire](http://nbviewer.ipython.org/github/tiggerntatie/emagnet.py/blob/master/solenoids/straightwire.ipynb)\n",
      "* [Field inside an infinitely long, straight, air-core solenoid](http://nbviewer.ipython.org/github/tiggerntatie/emagnet.py/blob/master/solenoids/infinite_solenoid.ipynb)\n",
      "* [Field inside an air-core toroid](http://nbviewer.ipython.org/github/tiggerntatie/emagnet.py/blob/master/solenoids/toroid.ipynb)\n",
      "* [On-axis field due to a current loop](http://nbviewer.ipython.org/github/tiggerntatie/emagnet.py/blob/master/solenoids/current_loop.ipynb)\n",
      "* [On-axis field due to a thin shell solenoid](http://nbviewer.ipython.org/github/tiggerntatie/emagnet.py/blob/master/solenoids/thin_solenoid.ipynb)\n",
      "* [On-axis field due to a solenoid](http://nbviewer.ipython.org/github/tiggerntatie/emagnet.py/blob/master/solenoids/solenoid.ipynb)"
     ]
    },
    {
     "cell_type": "markdown",
     "metadata": {},
     "source": [
      "---\n",
      "[Magnet Formulas](http://nbviewer.ipython.org/github/tiggerntatie/emagnet.py/blob/master/magnet_formulas.ipynb), \u00a9 2015 by Eric Dennison. Source code and License on [Github](https://github.com/tiggerntatie/emagnet.py)"
     ]
    }
   ],
   "metadata": {}
  }
 ]
}