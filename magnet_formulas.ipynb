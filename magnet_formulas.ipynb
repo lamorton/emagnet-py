{
 "metadata": {
  "kernelspec": {
   "codemirror_mode": {
    "name": "ipython",
    "version": 3
   },
   "display_name": "IPython (Python 3)",
   "language": "python",
   "name": "python3"
  },
  "name": "",
  "signature": "sha256:74d2a0b0ae6a6f97e62c9130d1e9e7f254718bfce9b567b81f3177bdaf7cbc9a"
 },
 "nbformat": 3,
 "nbformat_minor": 0,
 "worksheets": [
  {
   "cells": [
    {
     "cell_type": "heading",
     "level": 1,
     "metadata": {},
     "source": [
      "magnet formulas"
     ]
    },
    {
     "cell_type": "markdown",
     "metadata": {},
     "source": [
      "*A small web site devoted to the vanishing art of practical magnet design without FEA (Finite Element Analysis).*"
     ]
    },
    {
     "cell_type": "heading",
     "level": 2,
     "metadata": {},
     "source": [
      "The Basics"
     ]
    },
    {
     "cell_type": "markdown",
     "metadata": {},
     "source": [
      "* [Maxwell and His Equations](http://nbviewer.ipython.org/github/tiggerntatie/emagnet.py/blob/master/basics/maxwell.ipynb)\n",
      "* [The Law of Biot Savart](http://nbviewer.ipython.org/github/tiggerntatie/emagnet.py/blob/master/basics/biotsavart.ipynb)"
     ]
    },
    {
     "cell_type": "heading",
     "level": 2,
     "metadata": {},
     "source": [
      "Simple Magnetic Field Formulas"
     ]
    },
    {
     "cell_type": "markdown",
     "metadata": {},
     "source": [
      "Magnet Formulas web site, \u00a9 2015 by Eric Dennison. Source code and License on [Github]()"
     ]
    }
   ],
   "metadata": {}
  }
 ]
}