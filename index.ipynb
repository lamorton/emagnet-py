{
 "cells": [
  {
   "cell_type": "markdown",
   "metadata": {},
   "source": [
    "# magnet formulas"
   ]
  },
  {
   "cell_type": "markdown",
   "metadata": {},
   "source": [
    "*A small web site devoted to the vanishing art of practical magnet design without FEA (Finite Element Analysis).*"
   ]
  },
  {
   "cell_type": "markdown",
   "metadata": {},
   "source": [
    "## The Basics"
   ]
  },
  {
   "cell_type": "markdown",
   "metadata": {},
   "source": [
    "* [Maxwell and His Equations](./basics/maxwell.ipynb)\n",
    "* [The Law of Biot Savart](./basics/biotsavart.ipynb)"
   ]
  },
  {
   "cell_type": "markdown",
   "metadata": {},
   "source": [
    "## Simple Magnetic Field Formulas"
   ]
  },
  {
   "cell_type": "markdown",
   "metadata": {},
   "source": [
    "* [Field due to electric current in an infinitely long, straight wire](./solenoids/straightwire.ipynb)\n",
    "* [Field inside an infinitely long, straight, air-core solenoid](./solenoids/infinite_solenoid.ipynb)\n",
    "* [Field inside an air-core toroid](./solenoids/toroid.ipynb)\n",
    "* [On-axis field due to a current loop](./solenoids/current_loop.ipynb)\n",
    "* [On-axis field due to a thin shell solenoid](./solenoids/thin_solenoid.ipynb)\n",
    "* [On-axis field due to a solenoid](./solenoids/solenoid.ipynb)"
   ]
  },
  {
   "cell_type": "markdown",
   "metadata": {},
   "source": [
    "---\n",
    "\n",
    "[Magnet Formulas](./index.ipynb), © 2015 by Eric Dennison. Source code and License on [Github](https://github.com/tiggerntatie/emagnet-py)"
   ]
  }
 ],
 "metadata": {
  "kernelspec": {
   "display_name": "Python 3",
   "language": "python",
   "name": "python3"
  },
  "language_info": {
   "codemirror_mode": {
    "name": "ipython",
    "version": 3
   },
   "file_extension": ".py",
   "mimetype": "text/x-python",
   "name": "python",
   "nbconvert_exporter": "python",
   "pygments_lexer": "ipython3",
   "version": "3.4.0"
  }
 },
 "nbformat": 4,
 "nbformat_minor": 0
}
