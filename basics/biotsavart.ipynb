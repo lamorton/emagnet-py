{
 "metadata": {
  "kernelspec": {
   "codemirror_mode": {
    "name": "ipython",
    "version": 3
   },
   "display_name": "IPython (Python 3)",
   "language": "python",
   "name": "python3"
  },
  "name": "",
  "signature": "sha256:12fe170942b9c952273ae1fd5f7701881b68dbae08a1e5f8ebfa48bfc64e4b4e"
 },
 "nbformat": 3,
 "nbformat_minor": 0,
 "worksheets": [
  {
   "cells": [
    {
     "cell_type": "heading",
     "level": 1,
     "metadata": {},
     "source": [
      "The Law of Biot Savart"
     ]
    },
    {
     "cell_type": "markdown",
     "metadata": {},
     "source": [
      "This handy little law is the foundation upon which  most of the air core coil formulas in this site are based."
     ]
    },
    {
     "cell_type": "markdown",
     "metadata": {},
     "source": [
      "![Law of Biot Savart](biotsavart.png)\n"
     ]
    },
    {
     "cell_type": "markdown",
     "metadata": {},
     "source": [
      "$d \\mathbf B = \\frac {\\mu_o i} {4\\pi} \\frac {d \\mathbf l \\sin \\theta} {r^2}$"
     ]
    },
    {
     "cell_type": "markdown",
     "metadata": {},
     "source": [
      "The current element $d \\mathbf l$ on a current filement with current *i* contributes a magnetic field, $d \\mathbf B$, in a direction normal to the plane formed by $d \\mathbf l$ and the vector **r**.\n",
      "\n",
      "The good news is that by solving this integral for an arbitrary configuration of current filaments (like a coil, or set of coils) you can compute the magnetic field vector at any point in space.\n",
      "\n",
      "The bad news is that there is no closed solution to this integral for most interesting configurations of current filaments and vectors **r**.\n",
      "\n",
      "Oh well."
     ]
    },
    {
     "cell_type": "markdown",
     "metadata": {},
     "source": [
      "---\n",
      "\n",
      "[Magnet Formulas](http://nbviewer.ipython.org/github/tiggerntatie/emagnet.py/blob/master/magnet_formulas.ipynb), \u00a9 2015 by Eric Dennison. Source code and License on [Github](https://github.com/tiggerntatie/emagnet.py)"
     ]
    }
   ],
   "metadata": {}
  }
 ]
}