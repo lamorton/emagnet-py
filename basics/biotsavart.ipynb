{
 "cells": [
  {
   "cell_type": "markdown",
   "metadata": {},
   "source": [
    "# The Law of Biot Savart"
   ]
  },
  {
   "cell_type": "markdown",
   "metadata": {},
   "source": [
    "This handy little law is the foundation upon which  most of the air core coil formulas in this site are based."
   ]
  },
  {
   "cell_type": "markdown",
   "metadata": {},
   "source": [
    "![Law of Biot Savart](biotsavart.png)\n"
   ]
  },
  {
   "cell_type": "markdown",
   "metadata": {},
   "source": [
    "$d \\mathbf B = \\frac {\\mu_o i} {4\\pi} \\frac {d \\mathbf l \\sin \\theta} {r^2}$"
   ]
  },
  {
   "cell_type": "markdown",
   "metadata": {},
   "source": [
    "The current element $d \\mathbf l$ on a current filement with current *i* contributes a magnetic field, $d \\mathbf B$, in a direction normal to the plane formed by $d \\mathbf l$ and the vector **r**.\n",
    "\n",
    "The good news is that by solving this integral for an arbitrary configuration of current filaments (like a coil, or set of coils) you can compute the magnetic field vector at any point in space.\n",
    "\n",
    "The bad news is that there is no closed solution to this integral for most interesting configurations of current filaments and vectors **r**.\n",
    "\n",
    "Oh well."
   ]
  },
  {
   "cell_type": "markdown",
   "metadata": {},
   "source": [
    "---\n",
    "\n",
    "[Magnet Formulas](../index.ipynb), © 2015 by Eric Dennison. Source code and License on [Github](https://github.com/tiggerntatie/emagnet-py)"
   ]
  }
 ],
 "metadata": {
  "kernelspec": {
   "display_name": "Python 3",
   "language": "python",
   "name": "python3"
  },
  "language_info": {
   "codemirror_mode": {
    "name": "ipython",
    "version": 3
   },
   "file_extension": ".py",
   "mimetype": "text/x-python",
   "name": "python",
   "nbconvert_exporter": "python",
   "pygments_lexer": "ipython3",
   "version": "3.4.0"
  }
 },
 "nbformat": 4,
 "nbformat_minor": 0
}
