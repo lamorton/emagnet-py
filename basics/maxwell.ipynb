{
 "metadata": {
  "kernelspec": {
   "codemirror_mode": {
    "name": "ipython",
    "version": 3
   },
   "display_name": "IPython (Python 3)",
   "language": "python",
   "name": "python3"
  },
  "name": "",
  "signature": "sha256:621fdbb4e968d369e32b265eb60e270b0c7eb36d6bc0b516d554df2109afe437"
 },
 "nbformat": 3,
 "nbformat_minor": 0,
 "worksheets": [
  {
   "cells": [
    {
     "cell_type": "heading",
     "level": 1,
     "metadata": {},
     "source": [
      "Magnetics: The Basics"
     ]
    },
    {
     "cell_type": "markdown",
     "metadata": {},
     "source": [
      "Wherever you go. Whatever you do. Make sure you don't try to build something that doesn't agree with these little gems."
     ]
    },
    {
     "cell_type": "heading",
     "level": 2,
     "metadata": {},
     "source": [
      "Maxwell's Equations"
     ]
    },
    {
     "cell_type": "heading",
     "level": 3,
     "metadata": {},
     "source": [
      "$\\varepsilon_o \\oint \\kappa \\mathbf E \\cdot d \\mathbf S = q$"
     ]
    },
    {
     "cell_type": "markdown",
     "metadata": {},
     "source": [
      "**Gauss's Law for Electricity**. The surface integral of electric field over any closed surface is proportional to the enclosed charge. The $\\kappa$ factor is the dieletric constant, which is equal to 1 in free space."
     ]
    },
    {
     "cell_type": "heading",
     "level": 3,
     "metadata": {},
     "source": [
      "$\\oint \\mathbf B \\cdot d \\mathbf S = 0$"
     ]
    },
    {
     "cell_type": "markdown",
     "metadata": {},
     "source": [
      "**Gauss's Law for Magnetism**. The integral of magnetic flux density over any closed surface is zero. This is the mathematical expression of the fact that no magnetic monopoles have ever been observed."
     ]
    },
    {
     "cell_type": "heading",
     "level": 3,
     "metadata": {},
     "source": [
      "$\\oint \\mathbf E \\cdot d \\mathbf l =  - \\frac {d \\Phi_B} {dt}$"
     ]
    },
    {
     "cell_type": "markdown",
     "metadata": {},
     "source": [
      "**Faraday's Law of Induction**. The line integral of \n",
      "electric field over any closed path is proportional to the rate of change of magnetic flux in the enclosed region."
     ]
    },
    {
     "cell_type": "heading",
     "level": 3,
     "metadata": {},
     "source": [
      "$\\oint \\frac 1 {\\kappa_m} \\mathbf B \\cdot d \\mathbf l = \\mu_o \\left ( \\varepsilon_o \\frac {d \\Phi_E} {dt} + i \\right )$"
     ]
    },
    {
     "cell_type": "markdown",
     "metadata": {},
     "source": [
      "**Ampere's Law** (as extended by Maxwell). The line integral of magnetic flux density over any closed path is proportional to the rate of change of electric field and electric current in the enclosed region. The $\\kappa_m$ factor is the relative permeability, which is equal to 1 in free space."
     ]
    },
    {
     "cell_type": "heading",
     "level": 3,
     "metadata": {},
     "source": [
      "Those Little Constants"
     ]
    },
    {
     "cell_type": "markdown",
     "metadata": {},
     "source": [
      "All of the preceding equations work with units of meters, seconds, teslas (units of induced magnetic flux density, common referred to as \"magnetic field\" or \"field\"), webers (units of induced magnetic flux), amperes, volts and coulombs. The constants have the following values:\n",
      "\n",
      "Symbol |&nbsp;&nbsp;&nbsp;&nbsp;&nbsp;&nbsp;&nbsp;&nbsp;&nbsp;&nbsp;&nbsp;&nbsp;&nbsp;&nbsp;&nbsp;&nbsp;Value&nbsp;&nbsp;&nbsp;&nbsp;&nbsp;&nbsp;&nbsp;&nbsp;&nbsp;&nbsp;&nbsp;&nbsp;&nbsp;&nbsp;&nbsp;&nbsp;| Name\n",
      ":---:|:---:|:---:\n",
      "$\\varepsilon_o$ | $8.85\\cdot10^{-12} F m^{-1}$ | Permittivity constant\n",
      "$\\mu_o$ | $1.26 \\cdot 10^{-6} H m^{-1}$ | Permeability constant\n",
      "\n",
      "Note that $\\mu_o$ can be expressed as *exactly* $4\\pi \\cdot 10^{-7} Hm^{-1}$\n",
      "\n"
     ]
    },
    {
     "cell_type": "markdown",
     "metadata": {},
     "source": [
      "---\n",
      "\n",
      "Magnet Formulas web site, &copy; 2015 by Eric Dennison. Source code and License on [Github](https://github.com/tiggerntatie/emagnet.py)"
     ]
    }
   ],
   "metadata": {}
  }
 ]
}